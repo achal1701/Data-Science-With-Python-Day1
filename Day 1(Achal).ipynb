{
 "cells": [
  {
   "cell_type": "code",
   "execution_count": 1,
   "id": "cc3ea3ab",
   "metadata": {},
   "outputs": [],
   "source": [
    "=20\n",
    "#a=variable\n",
    "# =assignment operator\n",
    "#20=data\n"
   ]
  },
  {
   "cell_type": "code",
   "execution_count": 2,
   "id": "ee2d225a",
   "metadata": {},
   "outputs": [
    {
     "data": {
      "text/plain": [
       "20"
      ]
     },
     "execution_count": 2,
     "metadata": {},
     "output_type": "execute_result"
    }
   ],
   "source": [
    "a"
   ]
  },
  {
   "cell_type": "code",
   "execution_count": 3,
   "id": "95fe002c",
   "metadata": {},
   "outputs": [
    {
     "name": "stdout",
     "output_type": "stream",
     "text": [
      "20\n"
     ]
    }
   ],
   "source": [
    "print(a)"
   ]
  },
  {
   "cell_type": "code",
   "execution_count": 4,
   "id": "5f9d83dc",
   "metadata": {},
   "outputs": [],
   "source": [
    "a=\"Achal\"\n",
    "a='Achal'\n",
    "a='''Achal'''"
   ]
  },
  {
   "cell_type": "code",
   "execution_count": 5,
   "id": "b104c75b",
   "metadata": {},
   "outputs": [
    {
     "data": {
      "text/plain": [
       "'Achal'"
      ]
     },
     "execution_count": 5,
     "metadata": {},
     "output_type": "execute_result"
    }
   ],
   "source": [
    "a"
   ]
  },
  {
   "cell_type": "code",
   "execution_count": 6,
   "id": "10be5ee7",
   "metadata": {},
   "outputs": [],
   "source": [
    "a='Achal'\n",
    "b='shinde'\n",
    "c=a+b"
   ]
  },
  {
   "cell_type": "code",
   "execution_count": 8,
   "id": "92a5298f",
   "metadata": {},
   "outputs": [
    {
     "data": {
      "text/plain": [
       "'Achalshinde'"
      ]
     },
     "execution_count": 8,
     "metadata": {},
     "output_type": "execute_result"
    }
   ],
   "source": [
    "c"
   ]
  },
  {
   "cell_type": "code",
   "execution_count": 10,
   "id": "dad995fd",
   "metadata": {},
   "outputs": [
    {
     "name": "stdout",
     "output_type": "stream",
     "text": [
      "Achal\\shinde\n"
     ]
    }
   ],
   "source": [
    "print('Achal\\shinde')"
   ]
  },
  {
   "cell_type": "code",
   "execution_count": 11,
   "id": "8d78657c",
   "metadata": {},
   "outputs": [
    {
     "name": "stdout",
     "output_type": "stream",
     "text": [
      "Achal\tshinde\n"
     ]
    }
   ],
   "source": [
    "print('Achal\\tshinde')"
   ]
  },
  {
   "cell_type": "code",
   "execution_count": 12,
   "id": "dffd0241",
   "metadata": {},
   "outputs": [],
   "source": [
    "a=20"
   ]
  },
  {
   "cell_type": "code",
   "execution_count": 13,
   "id": "196eecbc",
   "metadata": {},
   "outputs": [
    {
     "data": {
      "text/plain": [
       "20"
      ]
     },
     "execution_count": 13,
     "metadata": {},
     "output_type": "execute_result"
    }
   ],
   "source": [
    "a"
   ]
  },
  {
   "cell_type": "code",
   "execution_count": 14,
   "id": "7ba80f21",
   "metadata": {},
   "outputs": [
    {
     "data": {
      "text/plain": [
       "int"
      ]
     },
     "execution_count": 14,
     "metadata": {},
     "output_type": "execute_result"
    }
   ],
   "source": [
    "type(a)"
   ]
  },
  {
   "cell_type": "code",
   "execution_count": 16,
   "id": "d7f63c54",
   "metadata": {},
   "outputs": [],
   "source": [
    "a='Achal'"
   ]
  },
  {
   "cell_type": "code",
   "execution_count": 17,
   "id": "90194f6a",
   "metadata": {},
   "outputs": [
    {
     "data": {
      "text/plain": [
       "'Achal'"
      ]
     },
     "execution_count": 17,
     "metadata": {},
     "output_type": "execute_result"
    }
   ],
   "source": [
    "a"
   ]
  },
  {
   "cell_type": "code",
   "execution_count": 18,
   "id": "ea80376f",
   "metadata": {},
   "outputs": [
    {
     "data": {
      "text/plain": [
       "str"
      ]
     },
     "execution_count": 18,
     "metadata": {},
     "output_type": "execute_result"
    }
   ],
   "source": [
    "type(a)"
   ]
  },
  {
   "cell_type": "code",
   "execution_count": null,
   "id": "199e7540",
   "metadata": {},
   "outputs": [],
   "source": []
  }
 ],
 "metadata": {
  "kernelspec": {
   "display_name": "Python 3 (ipykernel)",
   "language": "python",
   "name": "python3"
  },
  "language_info": {
   "codemirror_mode": {
    "name": "ipython",
    "version": 3
   },
   "file_extension": ".py",
   "mimetype": "text/x-python",
   "name": "python",
   "nbconvert_exporter": "python",
   "pygments_lexer": "ipython3",
   "version": "3.11.3"
  }
 },
 "nbformat": 4,
 "nbformat_minor": 5
}
